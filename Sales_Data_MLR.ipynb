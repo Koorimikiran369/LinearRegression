{
 "cells": [
  {
   "cell_type": "code",
   "execution_count": 1,
   "metadata": {},
   "outputs": [],
   "source": [
    "#Importing Libraries\n",
    "import pandas as pd\n",
    "import numpy as np\n",
    "import seaborn as sns\n",
    "import matplotlib.pyplot as plt\n",
    "%matplotlib inline\n"
   ]
  },
  {
   "cell_type": "code",
   "execution_count": 2,
   "metadata": {},
   "outputs": [],
   "source": [
    "#Reading the dataset\n",
    "df = pd.read_csv('Train.csv')"
   ]
  },
  {
   "cell_type": "code",
   "execution_count": 3,
   "metadata": {},
   "outputs": [
    {
     "data": {
      "text/html": [
       "<div>\n",
       "<style scoped>\n",
       "    .dataframe tbody tr th:only-of-type {\n",
       "        vertical-align: middle;\n",
       "    }\n",
       "\n",
       "    .dataframe tbody tr th {\n",
       "        vertical-align: top;\n",
       "    }\n",
       "\n",
       "    .dataframe thead th {\n",
       "        text-align: right;\n",
       "    }\n",
       "</style>\n",
       "<table border=\"1\" class=\"dataframe\">\n",
       "  <thead>\n",
       "    <tr style=\"text-align: right;\">\n",
       "      <th></th>\n",
       "      <th>Item_Identifier</th>\n",
       "      <th>Item_Weight</th>\n",
       "      <th>Item_Fat_Content</th>\n",
       "      <th>Item_Visibility</th>\n",
       "      <th>Item_Type</th>\n",
       "      <th>Item_MRP</th>\n",
       "      <th>Outlet_Identifier</th>\n",
       "      <th>Outlet_Establishment_Year</th>\n",
       "      <th>Outlet_Size</th>\n",
       "      <th>Outlet_Location_Type</th>\n",
       "      <th>Outlet_Type</th>\n",
       "      <th>Item_Outlet_Sales</th>\n",
       "    </tr>\n",
       "  </thead>\n",
       "  <tbody>\n",
       "    <tr>\n",
       "      <th>0</th>\n",
       "      <td>FDA15</td>\n",
       "      <td>9.30</td>\n",
       "      <td>Low Fat</td>\n",
       "      <td>0.016047</td>\n",
       "      <td>Dairy</td>\n",
       "      <td>249.8092</td>\n",
       "      <td>OUT049</td>\n",
       "      <td>1999</td>\n",
       "      <td>Medium</td>\n",
       "      <td>Tier 1</td>\n",
       "      <td>Supermarket Type1</td>\n",
       "      <td>3735.1380</td>\n",
       "    </tr>\n",
       "    <tr>\n",
       "      <th>1</th>\n",
       "      <td>DRC01</td>\n",
       "      <td>5.92</td>\n",
       "      <td>Regular</td>\n",
       "      <td>0.019278</td>\n",
       "      <td>Soft Drinks</td>\n",
       "      <td>48.2692</td>\n",
       "      <td>OUT018</td>\n",
       "      <td>2009</td>\n",
       "      <td>Medium</td>\n",
       "      <td>Tier 3</td>\n",
       "      <td>Supermarket Type2</td>\n",
       "      <td>443.4228</td>\n",
       "    </tr>\n",
       "    <tr>\n",
       "      <th>2</th>\n",
       "      <td>FDN15</td>\n",
       "      <td>17.50</td>\n",
       "      <td>Low Fat</td>\n",
       "      <td>0.016760</td>\n",
       "      <td>Meat</td>\n",
       "      <td>141.6180</td>\n",
       "      <td>OUT049</td>\n",
       "      <td>1999</td>\n",
       "      <td>Medium</td>\n",
       "      <td>Tier 1</td>\n",
       "      <td>Supermarket Type1</td>\n",
       "      <td>2097.2700</td>\n",
       "    </tr>\n",
       "    <tr>\n",
       "      <th>3</th>\n",
       "      <td>FDX07</td>\n",
       "      <td>19.20</td>\n",
       "      <td>Regular</td>\n",
       "      <td>0.000000</td>\n",
       "      <td>Fruits and Vegetables</td>\n",
       "      <td>182.0950</td>\n",
       "      <td>OUT010</td>\n",
       "      <td>1998</td>\n",
       "      <td>NaN</td>\n",
       "      <td>Tier 3</td>\n",
       "      <td>Grocery Store</td>\n",
       "      <td>732.3800</td>\n",
       "    </tr>\n",
       "    <tr>\n",
       "      <th>4</th>\n",
       "      <td>NCD19</td>\n",
       "      <td>8.93</td>\n",
       "      <td>Low Fat</td>\n",
       "      <td>0.000000</td>\n",
       "      <td>Household</td>\n",
       "      <td>53.8614</td>\n",
       "      <td>OUT013</td>\n",
       "      <td>1987</td>\n",
       "      <td>High</td>\n",
       "      <td>Tier 3</td>\n",
       "      <td>Supermarket Type1</td>\n",
       "      <td>994.7052</td>\n",
       "    </tr>\n",
       "  </tbody>\n",
       "</table>\n",
       "</div>"
      ],
      "text/plain": [
       "  Item_Identifier  Item_Weight Item_Fat_Content  Item_Visibility  \\\n",
       "0           FDA15         9.30          Low Fat         0.016047   \n",
       "1           DRC01         5.92          Regular         0.019278   \n",
       "2           FDN15        17.50          Low Fat         0.016760   \n",
       "3           FDX07        19.20          Regular         0.000000   \n",
       "4           NCD19         8.93          Low Fat         0.000000   \n",
       "\n",
       "               Item_Type  Item_MRP Outlet_Identifier  \\\n",
       "0                  Dairy  249.8092            OUT049   \n",
       "1            Soft Drinks   48.2692            OUT018   \n",
       "2                   Meat  141.6180            OUT049   \n",
       "3  Fruits and Vegetables  182.0950            OUT010   \n",
       "4              Household   53.8614            OUT013   \n",
       "\n",
       "   Outlet_Establishment_Year Outlet_Size Outlet_Location_Type  \\\n",
       "0                       1999      Medium               Tier 1   \n",
       "1                       2009      Medium               Tier 3   \n",
       "2                       1999      Medium               Tier 1   \n",
       "3                       1998         NaN               Tier 3   \n",
       "4                       1987        High               Tier 3   \n",
       "\n",
       "         Outlet_Type  Item_Outlet_Sales  \n",
       "0  Supermarket Type1          3735.1380  \n",
       "1  Supermarket Type2           443.4228  \n",
       "2  Supermarket Type1          2097.2700  \n",
       "3      Grocery Store           732.3800  \n",
       "4  Supermarket Type1           994.7052  "
      ]
     },
     "execution_count": 3,
     "metadata": {},
     "output_type": "execute_result"
    }
   ],
   "source": [
    "#Showing first five columns in the dataframe\n",
    "df.head()"
   ]
  },
  {
   "cell_type": "code",
   "execution_count": 4,
   "metadata": {},
   "outputs": [
    {
     "data": {
      "text/plain": [
       "Item_Identifier               object\n",
       "Item_Weight                  float64\n",
       "Item_Fat_Content              object\n",
       "Item_Visibility              float64\n",
       "Item_Type                     object\n",
       "Item_MRP                     float64\n",
       "Outlet_Identifier             object\n",
       "Outlet_Establishment_Year      int64\n",
       "Outlet_Size                   object\n",
       "Outlet_Location_Type          object\n",
       "Outlet_Type                   object\n",
       "Item_Outlet_Sales            float64\n",
       "dtype: object"
      ]
     },
     "execution_count": 4,
     "metadata": {},
     "output_type": "execute_result"
    }
   ],
   "source": [
    "df.dtypes"
   ]
  },
  {
   "cell_type": "code",
   "execution_count": 5,
   "metadata": {},
   "outputs": [
    {
     "data": {
      "text/plain": [
       "Item_Identifier                 0\n",
       "Item_Weight                  1463\n",
       "Item_Fat_Content                0\n",
       "Item_Visibility                 0\n",
       "Item_Type                       0\n",
       "Item_MRP                        0\n",
       "Outlet_Identifier               0\n",
       "Outlet_Establishment_Year       0\n",
       "Outlet_Size                  2410\n",
       "Outlet_Location_Type            0\n",
       "Outlet_Type                     0\n",
       "Item_Outlet_Sales               0\n",
       "dtype: int64"
      ]
     },
     "execution_count": 5,
     "metadata": {},
     "output_type": "execute_result"
    }
   ],
   "source": [
    "#Checking the Null Values in the every column\n",
    "df.isnull().sum()"
   ]
  },
  {
   "cell_type": "code",
   "execution_count": 12,
   "metadata": {},
   "outputs": [
    {
     "data": {
      "text/plain": [
       "Text(0.5, 0, 'Statisical Measurements')"
      ]
     },
     "execution_count": 12,
     "metadata": {},
     "output_type": "execute_result"
    },
    {
     "data": {
      "image/png": "[encoded data removed]",
      "text/plain": [
       "<Figure size 432x288 with 1 Axes>"
      ]
     },
     "metadata": {
      "needs_background": "light"
     },
     "output_type": "display_data"
    }
   ],
   "source": [
    "#Statisical measurments checking \n",
    "df_stats = df.describe()\n",
    "\n",
    "df_stats.plot.bar()\n",
    "plt.xlabel('Statisical Measurements')"
   ]
  },
  {
   "cell_type": "markdown",
   "metadata": {},
   "source": [
    "# Imputation - the cols Item Weight and Outlet size have Null values\n",
    "Impute Item_weight with mean() and outlet_Size = ' small ' if outlet location type is ='Tier 2'and with mode \"High', Medium) if outlet_location_Type = 'Tier3'"
   ]
  },
  {
   "cell_type": "code",
   "execution_count": 13,
   "metadata": {},
   "outputs": [],
   "source": [
    "# Imputing Item_Weight\n",
    "df.Item_Weight = df.Item_Weight.fillna(value=np.mean(df.Item_Weight,axis = 0))"
   ]
  },
  {
   "cell_type": "code",
   "execution_count": 14,
   "metadata": {},
   "outputs": [
    {
     "name": "stderr",
     "output_type": "stream",
     "text": [
      "C:\\Users\\kiran kumar\\Anaconda3\\lib\\site-packages\\ipykernel_launcher.py:4: SettingWithCopyWarning: \n",
      "A value is trying to be set on a copy of a slice from a DataFrame\n",
      "\n",
      "See the caveats in the documentation: http://pandas.pydata.org/pandas-docs/stable/user_guide/indexing.html#returning-a-view-versus-a-copy\n",
      "  after removing the cwd from sys.path.\n"
     ]
    }
   ],
   "source": [
    "# Imputing Outler_Size when Outler_Location_Type == 'Tier 3'\n",
    "for i in range(0,len(df.Outlet_Size)):\n",
    "    if (df.Outlet_Size.isnull()[i]):\n",
    "            df.Outlet_Size[i] = 'Medium'"
   ]
  },
  {
   "cell_type": "code",
   "execution_count": 15,
   "metadata": {},
   "outputs": [
    {
     "data": {
      "text/plain": [
       "Low Fat    5089\n",
       "Regular    2889\n",
       "LF          316\n",
       "reg         117\n",
       "low fat     112\n",
       "Name: Item_Fat_Content, dtype: int64"
      ]
     },
     "execution_count": 15,
     "metadata": {},
     "output_type": "execute_result"
    }
   ],
   "source": [
    "df.Item_Fat_Content.value_counts()"
   ]
  },
  {
   "cell_type": "code",
   "execution_count": 16,
   "metadata": {},
   "outputs": [],
   "source": [
    "df.Item_Fat_Content = df.Item_Fat_Content.replace({'Low Fat':'LF','Regular' : 'reg', 'low fat': 'LF'})"
   ]
  },
  {
   "cell_type": "code",
   "execution_count": 17,
   "metadata": {},
   "outputs": [
    {
     "data": {
      "text/plain": [
       "LF     5517\n",
       "reg    3006\n",
       "Name: Item_Fat_Content, dtype: int64"
      ]
     },
     "execution_count": 17,
     "metadata": {},
     "output_type": "execute_result"
    }
   ],
   "source": [
    "df.Item_Fat_Content.value_counts()"
   ]
  },
  {
   "cell_type": "markdown",
   "metadata": {},
   "source": [
    "1 Droppig the Columns : Item_Identifier,Item_Type,Outlet_Identifier\n",
    "\n",
    "2 Label encode and OHE the following columns : Item_Fat_Content, Outlet_Size ,Outlet_Location_Type,Outlet_Type\n",
    "\n",
    "3 Then Check describe, correlation, covariance,\n",
    "\n",
    "4 multicollinearity, \n",
    "\n",
    "5 build ols, check summary, check diagnostic plots, \n",
    "\n",
    "6 check normality assumption shapiro, check outliers/Influential values/cook's D,\n",
    "\n",
    "7 Stepwise AIC will give u good features - Feature Extraction\n",
    "\n",
    "8 Take the best p-value variables from stepwise AIC and Build OLS again"
   ]
  },
  {
   "cell_type": "code",
   "execution_count": 18,
   "metadata": {},
   "outputs": [],
   "source": [
    "df = df.drop(['Item_Identifier','Item_Type','Outlet_Identifier'],axis = 1)"
   ]
  },
  {
   "cell_type": "code",
   "execution_count": 19,
   "metadata": {},
   "outputs": [
    {
     "data": {
      "text/html": [
       "<div>\n",
       "<style scoped>\n",
       "    .dataframe tbody tr th:only-of-type {\n",
       "        vertical-align: middle;\n",
       "    }\n",
       "\n",
       "    .dataframe tbody tr th {\n",
       "        vertical-align: top;\n",
       "    }\n",
       "\n",
       "    .dataframe thead th {\n",
       "        text-align: right;\n",
       "    }\n",
       "</style>\n",
       "<table border=\"1\" class=\"dataframe\">\n",
       "  <thead>\n",
       "    <tr style=\"text-align: right;\">\n",
       "      <th></th>\n",
       "      <th>Item_Weight</th>\n",
       "      <th>Item_Fat_Content</th>\n",
       "      <th>Item_Visibility</th>\n",
       "      <th>Item_MRP</th>\n",
       "      <th>Outlet_Establishment_Year</th>\n",
       "      <th>Outlet_Size</th>\n",
       "      <th>Outlet_Location_Type</th>\n",
       "      <th>Outlet_Type</th>\n",
       "      <th>Item_Outlet_Sales</th>\n",
       "    </tr>\n",
       "  </thead>\n",
       "  <tbody>\n",
       "    <tr>\n",
       "      <th>0</th>\n",
       "      <td>9.30</td>\n",
       "      <td>LF</td>\n",
       "      <td>0.016047</td>\n",
       "      <td>249.8092</td>\n",
       "      <td>1999</td>\n",
       "      <td>Medium</td>\n",
       "      <td>Tier 1</td>\n",
       "      <td>Supermarket Type1</td>\n",
       "      <td>3735.1380</td>\n",
       "    </tr>\n",
       "    <tr>\n",
       "      <th>1</th>\n",
       "      <td>5.92</td>\n",
       "      <td>reg</td>\n",
       "      <td>0.019278</td>\n",
       "      <td>48.2692</td>\n",
       "      <td>2009</td>\n",
       "      <td>Medium</td>\n",
       "      <td>Tier 3</td>\n",
       "      <td>Supermarket Type2</td>\n",
       "      <td>443.4228</td>\n",
       "    </tr>\n",
       "    <tr>\n",
       "      <th>2</th>\n",
       "      <td>17.50</td>\n",
       "      <td>LF</td>\n",
       "      <td>0.016760</td>\n",
       "      <td>141.6180</td>\n",
       "      <td>1999</td>\n",
       "      <td>Medium</td>\n",
       "      <td>Tier 1</td>\n",
       "      <td>Supermarket Type1</td>\n",
       "      <td>2097.2700</td>\n",
       "    </tr>\n",
       "    <tr>\n",
       "      <th>3</th>\n",
       "      <td>19.20</td>\n",
       "      <td>reg</td>\n",
       "      <td>0.000000</td>\n",
       "      <td>182.0950</td>\n",
       "      <td>1998</td>\n",
       "      <td>Medium</td>\n",
       "      <td>Tier 3</td>\n",
       "      <td>Grocery Store</td>\n",
       "      <td>732.3800</td>\n",
       "    </tr>\n",
       "    <tr>\n",
       "      <th>4</th>\n",
       "      <td>8.93</td>\n",
       "      <td>LF</td>\n",
       "      <td>0.000000</td>\n",
       "      <td>53.8614</td>\n",
       "      <td>1987</td>\n",
       "      <td>High</td>\n",
       "      <td>Tier 3</td>\n",
       "      <td>Supermarket Type1</td>\n",
       "      <td>994.7052</td>\n",
       "    </tr>\n",
       "  </tbody>\n",
       "</table>\n",
       "</div>"
      ],
      "text/plain": [
       "   Item_Weight Item_Fat_Content  Item_Visibility  Item_MRP  \\\n",
       "0         9.30               LF         0.016047  249.8092   \n",
       "1         5.92              reg         0.019278   48.2692   \n",
       "2        17.50               LF         0.016760  141.6180   \n",
       "3        19.20              reg         0.000000  182.0950   \n",
       "4         8.93               LF         0.000000   53.8614   \n",
       "\n",
       "   Outlet_Establishment_Year Outlet_Size Outlet_Location_Type  \\\n",
       "0                       1999      Medium               Tier 1   \n",
       "1                       2009      Medium               Tier 3   \n",
       "2                       1999      Medium               Tier 1   \n",
       "3                       1998      Medium               Tier 3   \n",
       "4                       1987        High               Tier 3   \n",
       "\n",
       "         Outlet_Type  Item_Outlet_Sales  \n",
       "0  Supermarket Type1          3735.1380  \n",
       "1  Supermarket Type2           443.4228  \n",
       "2  Supermarket Type1          2097.2700  \n",
       "3      Grocery Store           732.3800  \n",
       "4  Supermarket Type1           994.7052  "
      ]
     },
     "execution_count": 19,
     "metadata": {},
     "output_type": "execute_result"
    }
   ],
   "source": [
    "df.head()"
   ]
  },
  {
   "cell_type": "code",
   "execution_count": 43,
   "metadata": {},
   "outputs": [
    {
     "data": {
      "text/plain": [
       "Item_Weight                  0\n",
       "Item_Fat_Content             0\n",
       "Item_Visibility              0\n",
       "Item_MRP                     0\n",
       "Outlet_Establishment_Year    0\n",
       "Outlet_Size                  0\n",
       "Outlet_Location_Type         0\n",
       "Outlet_Type                  0\n",
       "Item_Outlet_Sales            0\n",
       "dtype: int64"
      ]
     },
     "execution_count": 43,
     "metadata": {},
     "output_type": "execute_result"
    }
   ],
   "source": [
    "df.isnull().sum()"
   ]
  },
  {
   "cell_type": "code",
   "execution_count": 46,
   "metadata": {},
   "outputs": [
    {
     "data": {
      "text/plain": [
       "<matplotlib.axes._subplots.AxesSubplot at 0x11de29fb518>"
      ]
     },
     "execution_count": 46,
     "metadata": {},
     "output_type": "execute_result"
    },
    {
     "data": {
      "image/png": "[encoded data removed]",
      "text/plain": [
       "<Figure size 432x288 with 1 Axes>"
      ]
     },
     "metadata": {
      "needs_background": "light"
     },
     "output_type": "display_data"
    }
   ],
   "source": [
    "df.Outlet_Type.value_counts().plot(kind='bar',title='Outlet_Type')\n",
    "\n"
   ]
  },
  {
   "cell_type": "code",
   "execution_count": 47,
   "metadata": {},
   "outputs": [
    {
     "data": {
      "text/plain": [
       "<matplotlib.axes._subplots.AxesSubplot at 0x11de35b80b8>"
      ]
     },
     "execution_count": 47,
     "metadata": {},
     "output_type": "execute_result"
    },
    {
     "data": {
      "image/png": "[encoded data removed]",
      "text/plain": [
       "<Figure size 432x288 with 1 Axes>"
      ]
     },
     "metadata": {
      "needs_background": "light"
     },
     "output_type": "display_data"
    },
    {
     "data": {
      "image/png": "[encoded data removed]",
      "text/plain": [
       "<Figure size 432x288 with 1 Axes>"
      ]
     },
     "metadata": {
      "needs_background": "light"
     },
     "output_type": "display_data"
    }
   ],
   "source": [
    "df.Item_Fat_Content.value_counts().plot(kind='bar',title='Item Fat Content')\n",
    "df.groupby('Outlet_Type')[['Outlet_Type','Item_Outlet_Sales']].mean().sort_values(ascending=False,\n",
    "                                                            by='Item_Outlet_Sales').plot(kind='bar',color='r')\n",
    "\n"
   ]
  },
  {
   "cell_type": "code",
   "execution_count": 48,
   "metadata": {},
   "outputs": [
    {
     "data": {
      "text/plain": [
       "<matplotlib.axes._subplots.AxesSubplot at 0x11de3474080>"
      ]
     },
     "execution_count": 48,
     "metadata": {},
     "output_type": "execute_result"
    },
    {
     "data": {
      "image/png": "[encoded data removed]",
      "text/plain": [
       "<Figure size 432x288 with 1 Axes>"
      ]
     },
     "metadata": {
      "needs_background": "light"
     },
     "output_type": "display_data"
    }
   ],
   "source": [
    "df.groupby('Outlet_Type')[['Outlet_Type','Item_Outlet_Sales']].mean().sort_values(ascending=False,\n",
    "                                                            by='Item_Outlet_Sales').plot(kind='bar',color='b')"
   ]
  },
  {
   "cell_type": "code",
   "execution_count": 49,
   "metadata": {},
   "outputs": [],
   "source": [
    "df.to_excel('train.xlsx')"
   ]
  },
  {
   "cell_type": "markdown",
   "metadata": {},
   "source": [
    "### LabelEncoding and OneHotEncoding"
   ]
  },
  {
   "cell_type": "code",
   "execution_count": 21,
   "metadata": {},
   "outputs": [],
   "source": [
    "from sklearn.preprocessing import LabelEncoder, OneHotEncoder"
   ]
  },
  {
   "cell_type": "code",
   "execution_count": 22,
   "metadata": {},
   "outputs": [
    {
     "data": {
      "text/html": [
       "<div>\n",
       "<style scoped>\n",
       "    .dataframe tbody tr th:only-of-type {\n",
       "        vertical-align: middle;\n",
       "    }\n",
       "\n",
       "    .dataframe tbody tr th {\n",
       "        vertical-align: top;\n",
       "    }\n",
       "\n",
       "    .dataframe thead th {\n",
       "        text-align: right;\n",
       "    }\n",
       "</style>\n",
       "<table border=\"1\" class=\"dataframe\">\n",
       "  <thead>\n",
       "    <tr style=\"text-align: right;\">\n",
       "      <th></th>\n",
       "      <th>ItemFatContent</th>\n",
       "      <th>OutletSize</th>\n",
       "      <th>OutletLocationType</th>\n",
       "      <th>OutletType</th>\n",
       "    </tr>\n",
       "  </thead>\n",
       "  <tbody>\n",
       "    <tr>\n",
       "      <th>0</th>\n",
       "      <td>0</td>\n",
       "      <td>1</td>\n",
       "      <td>0</td>\n",
       "      <td>1</td>\n",
       "    </tr>\n",
       "    <tr>\n",
       "      <th>1</th>\n",
       "      <td>1</td>\n",
       "      <td>1</td>\n",
       "      <td>2</td>\n",
       "      <td>2</td>\n",
       "    </tr>\n",
       "    <tr>\n",
       "      <th>2</th>\n",
       "      <td>0</td>\n",
       "      <td>1</td>\n",
       "      <td>0</td>\n",
       "      <td>1</td>\n",
       "    </tr>\n",
       "    <tr>\n",
       "      <th>3</th>\n",
       "      <td>1</td>\n",
       "      <td>1</td>\n",
       "      <td>2</td>\n",
       "      <td>0</td>\n",
       "    </tr>\n",
       "    <tr>\n",
       "      <th>4</th>\n",
       "      <td>0</td>\n",
       "      <td>0</td>\n",
       "      <td>2</td>\n",
       "      <td>1</td>\n",
       "    </tr>\n",
       "  </tbody>\n",
       "</table>\n",
       "</div>"
      ],
      "text/plain": [
       "   ItemFatContent  OutletSize  OutletLocationType  OutletType\n",
       "0               0           1                   0           1\n",
       "1               1           1                   2           2\n",
       "2               0           1                   0           1\n",
       "3               1           1                   2           0\n",
       "4               0           0                   2           1"
      ]
     },
     "execution_count": 22,
     "metadata": {},
     "output_type": "execute_result"
    }
   ],
   "source": [
    "# Labelencode and onehotencode\n",
    "#step1 = labelencoder\n",
    "le= LabelEncoder()\n",
    "df_IFC = pd.DataFrame(le.fit_transform(df.Item_Fat_Content),columns=['ItemFatContent'])\n",
    "df_IFC.head()\n",
    "df_OS = pd.DataFrame(le.fit_transform(df.Outlet_Size),columns=['OutletSize'])\n",
    "df_OS.head()\n",
    "df_OLS = pd.DataFrame(le.fit_transform(df.Outlet_Location_Type),columns=['OutletLocationType'])\n",
    "df_OLS.head()\n",
    "df_OT = pd.DataFrame(le.fit_transform(df.Outlet_Type),columns=['OutletType'])\n",
    "df_OT.head()\n",
    "\n",
    "df_le=pd.concat([df_IFC,df_OS,df_OLS,df_OT],axis=1)\n",
    "df_le.head()"
   ]
  },
  {
   "cell_type": "code",
   "execution_count": 23,
   "metadata": {},
   "outputs": [
    {
     "data": {
      "text/html": [
       "<div>\n",
       "<style scoped>\n",
       "    .dataframe tbody tr th:only-of-type {\n",
       "        vertical-align: middle;\n",
       "    }\n",
       "\n",
       "    .dataframe tbody tr th {\n",
       "        vertical-align: top;\n",
       "    }\n",
       "\n",
       "    .dataframe thead th {\n",
       "        text-align: right;\n",
       "    }\n",
       "</style>\n",
       "<table border=\"1\" class=\"dataframe\">\n",
       "  <thead>\n",
       "    <tr style=\"text-align: right;\">\n",
       "      <th></th>\n",
       "      <th>ItemFatContent_LF</th>\n",
       "      <th>ItemFatContent_reg</th>\n",
       "      <th>OutletSize_small</th>\n",
       "      <th>OutletSize_medium</th>\n",
       "      <th>OutletSize_high</th>\n",
       "      <th>OutletLocationType_Tier1</th>\n",
       "      <th>OutletLocationType_Tier2</th>\n",
       "      <th>OutletLocationType_Tier3</th>\n",
       "      <th>OutletType_ST1</th>\n",
       "      <th>OutletType_ST2</th>\n",
       "      <th>OutletType_ST3</th>\n",
       "      <th>OutletType_GS</th>\n",
       "    </tr>\n",
       "  </thead>\n",
       "  <tbody>\n",
       "    <tr>\n",
       "      <th>0</th>\n",
       "      <td>1</td>\n",
       "      <td>0</td>\n",
       "      <td>0</td>\n",
       "      <td>1</td>\n",
       "      <td>0</td>\n",
       "      <td>1</td>\n",
       "      <td>0</td>\n",
       "      <td>0</td>\n",
       "      <td>0</td>\n",
       "      <td>1</td>\n",
       "      <td>0</td>\n",
       "      <td>0</td>\n",
       "    </tr>\n",
       "    <tr>\n",
       "      <th>1</th>\n",
       "      <td>0</td>\n",
       "      <td>1</td>\n",
       "      <td>0</td>\n",
       "      <td>1</td>\n",
       "      <td>0</td>\n",
       "      <td>0</td>\n",
       "      <td>0</td>\n",
       "      <td>1</td>\n",
       "      <td>0</td>\n",
       "      <td>0</td>\n",
       "      <td>1</td>\n",
       "      <td>0</td>\n",
       "    </tr>\n",
       "    <tr>\n",
       "      <th>2</th>\n",
       "      <td>1</td>\n",
       "      <td>0</td>\n",
       "      <td>0</td>\n",
       "      <td>1</td>\n",
       "      <td>0</td>\n",
       "      <td>1</td>\n",
       "      <td>0</td>\n",
       "      <td>0</td>\n",
       "      <td>0</td>\n",
       "      <td>1</td>\n",
       "      <td>0</td>\n",
       "      <td>0</td>\n",
       "    </tr>\n",
       "    <tr>\n",
       "      <th>3</th>\n",
       "      <td>0</td>\n",
       "      <td>1</td>\n",
       "      <td>0</td>\n",
       "      <td>1</td>\n",
       "      <td>0</td>\n",
       "      <td>0</td>\n",
       "      <td>0</td>\n",
       "      <td>1</td>\n",
       "      <td>1</td>\n",
       "      <td>0</td>\n",
       "      <td>0</td>\n",
       "      <td>0</td>\n",
       "    </tr>\n",
       "    <tr>\n",
       "      <th>4</th>\n",
       "      <td>1</td>\n",
       "      <td>0</td>\n",
       "      <td>1</td>\n",
       "      <td>0</td>\n",
       "      <td>0</td>\n",
       "      <td>0</td>\n",
       "      <td>0</td>\n",
       "      <td>1</td>\n",
       "      <td>0</td>\n",
       "      <td>1</td>\n",
       "      <td>0</td>\n",
       "      <td>0</td>\n",
       "    </tr>\n",
       "  </tbody>\n",
       "</table>\n",
       "</div>"
      ],
      "text/plain": [
       "   ItemFatContent_LF  ItemFatContent_reg  OutletSize_small  OutletSize_medium  \\\n",
       "0                  1                   0                 0                  1   \n",
       "1                  0                   1                 0                  1   \n",
       "2                  1                   0                 0                  1   \n",
       "3                  0                   1                 0                  1   \n",
       "4                  1                   0                 1                  0   \n",
       "\n",
       "   OutletSize_high  OutletLocationType_Tier1  OutletLocationType_Tier2  \\\n",
       "0                0                         1                         0   \n",
       "1                0                         0                         0   \n",
       "2                0                         1                         0   \n",
       "3                0                         0                         0   \n",
       "4                0                         0                         0   \n",
       "\n",
       "   OutletLocationType_Tier3  OutletType_ST1  OutletType_ST2  OutletType_ST3  \\\n",
       "0                         0               0               1               0   \n",
       "1                         1               0               0               1   \n",
       "2                         0               0               1               0   \n",
       "3                         1               1               0               0   \n",
       "4                         1               0               1               0   \n",
       "\n",
       "   OutletType_GS  \n",
       "0              0  \n",
       "1              0  \n",
       "2              0  \n",
       "3              0  \n",
       "4              0  "
      ]
     },
     "execution_count": 23,
     "metadata": {},
     "output_type": "execute_result"
    }
   ],
   "source": [
    "#step2 - Onehotencoder\n",
    "#This step creates dummy variables of the label encoded varaibles\n",
    "#ItemFatContent - uniform =1 and favorite = 0\n",
    "#OutletSize - uniform = 1 and favorite = 0\n",
    "ohe = OneHotEncoder()\n",
    "df_le_ohe = pd.DataFrame(ohe.fit_transform(df_le).toarray().astype(np.int64),\n",
    "            columns=['ItemFatContent_LF','ItemFatContent_reg','OutletSize_small','OutletSize_medium','OutletSize_high','OutletLocationType_Tier1','OutletLocationType_Tier2','OutletLocationType_Tier3','OutletType_ST1','OutletType_ST2','OutletType_ST3','OutletType_GS'])\n",
    "df_le_ohe.head()"
   ]
  },
  {
   "cell_type": "code",
   "execution_count": 25,
   "metadata": {},
   "outputs": [
    {
     "data": {
      "text/html": [
       "<div>\n",
       "<style scoped>\n",
       "    .dataframe tbody tr th:only-of-type {\n",
       "        vertical-align: middle;\n",
       "    }\n",
       "\n",
       "    .dataframe tbody tr th {\n",
       "        vertical-align: top;\n",
       "    }\n",
       "\n",
       "    .dataframe thead th {\n",
       "        text-align: right;\n",
       "    }\n",
       "</style>\n",
       "<table border=\"1\" class=\"dataframe\">\n",
       "  <thead>\n",
       "    <tr style=\"text-align: right;\">\n",
       "      <th></th>\n",
       "      <th>Item_Weight</th>\n",
       "      <th>Item_Visibility</th>\n",
       "      <th>Item_MRP</th>\n",
       "      <th>Outlet_Establishment_Year</th>\n",
       "      <th>Item_Outlet_Sales</th>\n",
       "      <th>ItemFatContent_LF</th>\n",
       "      <th>ItemFatContent_reg</th>\n",
       "      <th>OutletSize_small</th>\n",
       "      <th>OutletSize_medium</th>\n",
       "      <th>OutletSize_high</th>\n",
       "      <th>OutletLocationType_Tier1</th>\n",
       "      <th>OutletLocationType_Tier2</th>\n",
       "      <th>OutletLocationType_Tier3</th>\n",
       "      <th>OutletType_ST1</th>\n",
       "      <th>OutletType_ST2</th>\n",
       "      <th>OutletType_ST3</th>\n",
       "      <th>OutletType_GS</th>\n",
       "    </tr>\n",
       "  </thead>\n",
       "  <tbody>\n",
       "    <tr>\n",
       "      <th>0</th>\n",
       "      <td>9.300000</td>\n",
       "      <td>0.016047</td>\n",
       "      <td>249.8092</td>\n",
       "      <td>1999</td>\n",
       "      <td>3735.1380</td>\n",
       "      <td>1</td>\n",
       "      <td>0</td>\n",
       "      <td>0</td>\n",
       "      <td>1</td>\n",
       "      <td>0</td>\n",
       "      <td>1</td>\n",
       "      <td>0</td>\n",
       "      <td>0</td>\n",
       "      <td>0</td>\n",
       "      <td>1</td>\n",
       "      <td>0</td>\n",
       "      <td>0</td>\n",
       "    </tr>\n",
       "    <tr>\n",
       "      <th>1</th>\n",
       "      <td>5.920000</td>\n",
       "      <td>0.019278</td>\n",
       "      <td>48.2692</td>\n",
       "      <td>2009</td>\n",
       "      <td>443.4228</td>\n",
       "      <td>0</td>\n",
       "      <td>1</td>\n",
       "      <td>0</td>\n",
       "      <td>1</td>\n",
       "      <td>0</td>\n",
       "      <td>0</td>\n",
       "      <td>0</td>\n",
       "      <td>1</td>\n",
       "      <td>0</td>\n",
       "      <td>0</td>\n",
       "      <td>1</td>\n",
       "      <td>0</td>\n",
       "    </tr>\n",
       "    <tr>\n",
       "      <th>2</th>\n",
       "      <td>17.500000</td>\n",
       "      <td>0.016760</td>\n",
       "      <td>141.6180</td>\n",
       "      <td>1999</td>\n",
       "      <td>2097.2700</td>\n",
       "      <td>1</td>\n",
       "      <td>0</td>\n",
       "      <td>0</td>\n",
       "      <td>1</td>\n",
       "      <td>0</td>\n",
       "      <td>1</td>\n",
       "      <td>0</td>\n",
       "      <td>0</td>\n",
       "      <td>0</td>\n",
       "      <td>1</td>\n",
       "      <td>0</td>\n",
       "      <td>0</td>\n",
       "    </tr>\n",
       "    <tr>\n",
       "      <th>3</th>\n",
       "      <td>19.200000</td>\n",
       "      <td>0.000000</td>\n",
       "      <td>182.0950</td>\n",
       "      <td>1998</td>\n",
       "      <td>732.3800</td>\n",
       "      <td>0</td>\n",
       "      <td>1</td>\n",
       "      <td>0</td>\n",
       "      <td>1</td>\n",
       "      <td>0</td>\n",
       "      <td>0</td>\n",
       "      <td>0</td>\n",
       "      <td>1</td>\n",
       "      <td>1</td>\n",
       "      <td>0</td>\n",
       "      <td>0</td>\n",
       "      <td>0</td>\n",
       "    </tr>\n",
       "    <tr>\n",
       "      <th>4</th>\n",
       "      <td>8.930000</td>\n",
       "      <td>0.000000</td>\n",
       "      <td>53.8614</td>\n",
       "      <td>1987</td>\n",
       "      <td>994.7052</td>\n",
       "      <td>1</td>\n",
       "      <td>0</td>\n",
       "      <td>1</td>\n",
       "      <td>0</td>\n",
       "      <td>0</td>\n",
       "      <td>0</td>\n",
       "      <td>0</td>\n",
       "      <td>1</td>\n",
       "      <td>0</td>\n",
       "      <td>1</td>\n",
       "      <td>0</td>\n",
       "      <td>0</td>\n",
       "    </tr>\n",
       "    <tr>\n",
       "      <th>5</th>\n",
       "      <td>10.395000</td>\n",
       "      <td>0.000000</td>\n",
       "      <td>51.4008</td>\n",
       "      <td>2009</td>\n",
       "      <td>556.6088</td>\n",
       "      <td>0</td>\n",
       "      <td>1</td>\n",
       "      <td>0</td>\n",
       "      <td>1</td>\n",
       "      <td>0</td>\n",
       "      <td>0</td>\n",
       "      <td>0</td>\n",
       "      <td>1</td>\n",
       "      <td>0</td>\n",
       "      <td>0</td>\n",
       "      <td>1</td>\n",
       "      <td>0</td>\n",
       "    </tr>\n",
       "    <tr>\n",
       "      <th>6</th>\n",
       "      <td>13.650000</td>\n",
       "      <td>0.012741</td>\n",
       "      <td>57.6588</td>\n",
       "      <td>1987</td>\n",
       "      <td>343.5528</td>\n",
       "      <td>0</td>\n",
       "      <td>1</td>\n",
       "      <td>1</td>\n",
       "      <td>0</td>\n",
       "      <td>0</td>\n",
       "      <td>0</td>\n",
       "      <td>0</td>\n",
       "      <td>1</td>\n",
       "      <td>0</td>\n",
       "      <td>1</td>\n",
       "      <td>0</td>\n",
       "      <td>0</td>\n",
       "    </tr>\n",
       "    <tr>\n",
       "      <th>7</th>\n",
       "      <td>12.857645</td>\n",
       "      <td>0.127470</td>\n",
       "      <td>107.7622</td>\n",
       "      <td>1985</td>\n",
       "      <td>4022.7636</td>\n",
       "      <td>1</td>\n",
       "      <td>0</td>\n",
       "      <td>0</td>\n",
       "      <td>1</td>\n",
       "      <td>0</td>\n",
       "      <td>0</td>\n",
       "      <td>0</td>\n",
       "      <td>1</td>\n",
       "      <td>0</td>\n",
       "      <td>0</td>\n",
       "      <td>0</td>\n",
       "      <td>1</td>\n",
       "    </tr>\n",
       "    <tr>\n",
       "      <th>8</th>\n",
       "      <td>16.200000</td>\n",
       "      <td>0.016687</td>\n",
       "      <td>96.9726</td>\n",
       "      <td>2002</td>\n",
       "      <td>1076.5986</td>\n",
       "      <td>0</td>\n",
       "      <td>1</td>\n",
       "      <td>0</td>\n",
       "      <td>1</td>\n",
       "      <td>0</td>\n",
       "      <td>0</td>\n",
       "      <td>1</td>\n",
       "      <td>0</td>\n",
       "      <td>0</td>\n",
       "      <td>1</td>\n",
       "      <td>0</td>\n",
       "      <td>0</td>\n",
       "    </tr>\n",
       "    <tr>\n",
       "      <th>9</th>\n",
       "      <td>19.200000</td>\n",
       "      <td>0.094450</td>\n",
       "      <td>187.8214</td>\n",
       "      <td>2007</td>\n",
       "      <td>4710.5350</td>\n",
       "      <td>0</td>\n",
       "      <td>1</td>\n",
       "      <td>0</td>\n",
       "      <td>1</td>\n",
       "      <td>0</td>\n",
       "      <td>0</td>\n",
       "      <td>1</td>\n",
       "      <td>0</td>\n",
       "      <td>0</td>\n",
       "      <td>1</td>\n",
       "      <td>0</td>\n",
       "      <td>0</td>\n",
       "    </tr>\n",
       "  </tbody>\n",
       "</table>\n",
       "</div>"
      ],
      "text/plain": [
       "   Item_Weight  Item_Visibility  Item_MRP  Outlet_Establishment_Year  \\\n",
       "0     9.300000         0.016047  249.8092                       1999   \n",
       "1     5.920000         0.019278   48.2692                       2009   \n",
       "2    17.500000         0.016760  141.6180                       1999   \n",
       "3    19.200000         0.000000  182.0950                       1998   \n",
       "4     8.930000         0.000000   53.8614                       1987   \n",
       "5    10.395000         0.000000   51.4008                       2009   \n",
       "6    13.650000         0.012741   57.6588                       1987   \n",
       "7    12.857645         0.127470  107.7622                       1985   \n",
       "8    16.200000         0.016687   96.9726                       2002   \n",
       "9    19.200000         0.094450  187.8214                       2007   \n",
       "\n",
       "   Item_Outlet_Sales  ItemFatContent_LF  ItemFatContent_reg  OutletSize_small  \\\n",
       "0          3735.1380                  1                   0                 0   \n",
       "1           443.4228                  0                   1                 0   \n",
       "2          2097.2700                  1                   0                 0   \n",
       "3           732.3800                  0                   1                 0   \n",
       "4           994.7052                  1                   0                 1   \n",
       "5           556.6088                  0                   1                 0   \n",
       "6           343.5528                  0                   1                 1   \n",
       "7          4022.7636                  1                   0                 0   \n",
       "8          1076.5986                  0                   1                 0   \n",
       "9          4710.5350                  0                   1                 0   \n",
       "\n",
       "   OutletSize_medium  OutletSize_high  OutletLocationType_Tier1  \\\n",
       "0                  1                0                         1   \n",
       "1                  1                0                         0   \n",
       "2                  1                0                         1   \n",
       "3                  1                0                         0   \n",
       "4                  0                0                         0   \n",
       "5                  1                0                         0   \n",
       "6                  0                0                         0   \n",
       "7                  1                0                         0   \n",
       "8                  1                0                         0   \n",
       "9                  1                0                         0   \n",
       "\n",
       "   OutletLocationType_Tier2  OutletLocationType_Tier3  OutletType_ST1  \\\n",
       "0                         0                         0               0   \n",
       "1                         0                         1               0   \n",
       "2                         0                         0               0   \n",
       "3                         0                         1               1   \n",
       "4                         0                         1               0   \n",
       "5                         0                         1               0   \n",
       "6                         0                         1               0   \n",
       "7                         0                         1               0   \n",
       "8                         1                         0               0   \n",
       "9                         1                         0               0   \n",
       "\n",
       "   OutletType_ST2  OutletType_ST3  OutletType_GS  \n",
       "0               1               0              0  \n",
       "1               0               1              0  \n",
       "2               1               0              0  \n",
       "3               0               0              0  \n",
       "4               1               0              0  \n",
       "5               0               1              0  \n",
       "6               1               0              0  \n",
       "7               0               0              1  \n",
       "8               1               0              0  \n",
       "9               1               0              0  "
      ]
     },
     "execution_count": 25,
     "metadata": {},
     "output_type": "execute_result"
    }
   ],
   "source": [
    "df_cleanedpart = pd.concat([df,df_le_ohe], axis=1).drop(['Item_Fat_Content', 'Outlet_Size' ,'Outlet_Location_Type','Outlet_Type'], axis =1)\n",
    "\n",
    "df_cleanedpart.head(10)"
   ]
  },
  {
   "cell_type": "code",
   "execution_count": 26,
   "metadata": {},
   "outputs": [
    {
     "data": {
      "text/plain": [
       "(8523, 17)"
      ]
     },
     "execution_count": 26,
     "metadata": {},
     "output_type": "execute_result"
    }
   ],
   "source": [
    "df_cleanedpart.shape"
   ]
  },
  {
   "cell_type": "code",
   "execution_count": 29,
   "metadata": {},
   "outputs": [
    {
     "data": {
      "text/html": [
       "<div>\n",
       "<style scoped>\n",
       "    .dataframe tbody tr th:only-of-type {\n",
       "        vertical-align: middle;\n",
       "    }\n",
       "\n",
       "    .dataframe tbody tr th {\n",
       "        vertical-align: top;\n",
       "    }\n",
       "\n",
       "    .dataframe thead th {\n",
       "        text-align: right;\n",
       "    }\n",
       "</style>\n",
       "<table border=\"1\" class=\"dataframe\">\n",
       "  <thead>\n",
       "    <tr style=\"text-align: right;\">\n",
       "      <th></th>\n",
       "      <th>Item_Weight</th>\n",
       "      <th>Item_Visibility</th>\n",
       "      <th>Item_MRP</th>\n",
       "      <th>Outlet_Establishment_Year</th>\n",
       "      <th>Item_Outlet_Sales</th>\n",
       "      <th>ItemFatContent_LF</th>\n",
       "      <th>ItemFatContent_reg</th>\n",
       "      <th>OutletSize_small</th>\n",
       "      <th>OutletSize_medium</th>\n",
       "      <th>OutletSize_high</th>\n",
       "      <th>OutletLocationType_Tier1</th>\n",
       "      <th>OutletLocationType_Tier2</th>\n",
       "      <th>OutletLocationType_Tier3</th>\n",
       "      <th>OutletType_ST1</th>\n",
       "      <th>OutletType_ST2</th>\n",
       "      <th>OutletType_ST3</th>\n",
       "      <th>OutletType_GS</th>\n",
       "    </tr>\n",
       "  </thead>\n",
       "  <tbody>\n",
       "    <tr>\n",
       "      <th>count</th>\n",
       "      <td>8523.000000</td>\n",
       "      <td>8523.000000</td>\n",
       "      <td>8523.000000</td>\n",
       "      <td>8523.000000</td>\n",
       "      <td>8523.000000</td>\n",
       "      <td>8523.000000</td>\n",
       "      <td>8523.000000</td>\n",
       "      <td>8523.000000</td>\n",
       "      <td>8523.000000</td>\n",
       "      <td>8523.000000</td>\n",
       "      <td>8523.000000</td>\n",
       "      <td>8523.000000</td>\n",
       "      <td>8523.000000</td>\n",
       "      <td>8523.000000</td>\n",
       "      <td>8523.000000</td>\n",
       "      <td>8523.000000</td>\n",
       "      <td>8523.000000</td>\n",
       "    </tr>\n",
       "    <tr>\n",
       "      <th>mean</th>\n",
       "      <td>12.857645</td>\n",
       "      <td>0.066132</td>\n",
       "      <td>140.992782</td>\n",
       "      <td>1997.831867</td>\n",
       "      <td>2181.288914</td>\n",
       "      <td>0.647307</td>\n",
       "      <td>0.352693</td>\n",
       "      <td>0.109351</td>\n",
       "      <td>0.610466</td>\n",
       "      <td>0.280183</td>\n",
       "      <td>0.280183</td>\n",
       "      <td>0.326763</td>\n",
       "      <td>0.393054</td>\n",
       "      <td>0.127068</td>\n",
       "      <td>0.654347</td>\n",
       "      <td>0.108882</td>\n",
       "      <td>0.109703</td>\n",
       "    </tr>\n",
       "    <tr>\n",
       "      <th>std</th>\n",
       "      <td>4.226124</td>\n",
       "      <td>0.051598</td>\n",
       "      <td>62.275067</td>\n",
       "      <td>8.371760</td>\n",
       "      <td>1706.499616</td>\n",
       "      <td>0.477836</td>\n",
       "      <td>0.477836</td>\n",
       "      <td>0.312098</td>\n",
       "      <td>0.487673</td>\n",
       "      <td>0.449115</td>\n",
       "      <td>0.449115</td>\n",
       "      <td>0.469057</td>\n",
       "      <td>0.488457</td>\n",
       "      <td>0.333069</td>\n",
       "      <td>0.475609</td>\n",
       "      <td>0.311509</td>\n",
       "      <td>0.312538</td>\n",
       "    </tr>\n",
       "    <tr>\n",
       "      <th>min</th>\n",
       "      <td>4.555000</td>\n",
       "      <td>0.000000</td>\n",
       "      <td>31.290000</td>\n",
       "      <td>1985.000000</td>\n",
       "      <td>33.290000</td>\n",
       "      <td>0.000000</td>\n",
       "      <td>0.000000</td>\n",
       "      <td>0.000000</td>\n",
       "      <td>0.000000</td>\n",
       "      <td>0.000000</td>\n",
       "      <td>0.000000</td>\n",
       "      <td>0.000000</td>\n",
       "      <td>0.000000</td>\n",
       "      <td>0.000000</td>\n",
       "      <td>0.000000</td>\n",
       "      <td>0.000000</td>\n",
       "      <td>0.000000</td>\n",
       "    </tr>\n",
       "    <tr>\n",
       "      <th>25%</th>\n",
       "      <td>9.310000</td>\n",
       "      <td>0.026989</td>\n",
       "      <td>93.826500</td>\n",
       "      <td>1987.000000</td>\n",
       "      <td>834.247400</td>\n",
       "      <td>0.000000</td>\n",
       "      <td>0.000000</td>\n",
       "      <td>0.000000</td>\n",
       "      <td>0.000000</td>\n",
       "      <td>0.000000</td>\n",
       "      <td>0.000000</td>\n",
       "      <td>0.000000</td>\n",
       "      <td>0.000000</td>\n",
       "      <td>0.000000</td>\n",
       "      <td>0.000000</td>\n",
       "      <td>0.000000</td>\n",
       "      <td>0.000000</td>\n",
       "    </tr>\n",
       "    <tr>\n",
       "      <th>50%</th>\n",
       "      <td>12.857645</td>\n",
       "      <td>0.053931</td>\n",
       "      <td>143.012800</td>\n",
       "      <td>1999.000000</td>\n",
       "      <td>1794.331000</td>\n",
       "      <td>1.000000</td>\n",
       "      <td>0.000000</td>\n",
       "      <td>0.000000</td>\n",
       "      <td>1.000000</td>\n",
       "      <td>0.000000</td>\n",
       "      <td>0.000000</td>\n",
       "      <td>0.000000</td>\n",
       "      <td>0.000000</td>\n",
       "      <td>0.000000</td>\n",
       "      <td>1.000000</td>\n",
       "      <td>0.000000</td>\n",
       "      <td>0.000000</td>\n",
       "    </tr>\n",
       "    <tr>\n",
       "      <th>75%</th>\n",
       "      <td>16.000000</td>\n",
       "      <td>0.094585</td>\n",
       "      <td>185.643700</td>\n",
       "      <td>2004.000000</td>\n",
       "      <td>3101.296400</td>\n",
       "      <td>1.000000</td>\n",
       "      <td>1.000000</td>\n",
       "      <td>0.000000</td>\n",
       "      <td>1.000000</td>\n",
       "      <td>1.000000</td>\n",
       "      <td>1.000000</td>\n",
       "      <td>1.000000</td>\n",
       "      <td>1.000000</td>\n",
       "      <td>0.000000</td>\n",
       "      <td>1.000000</td>\n",
       "      <td>0.000000</td>\n",
       "      <td>0.000000</td>\n",
       "    </tr>\n",
       "    <tr>\n",
       "      <th>max</th>\n",
       "      <td>21.350000</td>\n",
       "      <td>0.328391</td>\n",
       "      <td>266.888400</td>\n",
       "      <td>2009.000000</td>\n",
       "      <td>13086.964800</td>\n",
       "      <td>1.000000</td>\n",
       "      <td>1.000000</td>\n",
       "      <td>1.000000</td>\n",
       "      <td>1.000000</td>\n",
       "      <td>1.000000</td>\n",
       "      <td>1.000000</td>\n",
       "      <td>1.000000</td>\n",
       "      <td>1.000000</td>\n",
       "      <td>1.000000</td>\n",
       "      <td>1.000000</td>\n",
       "      <td>1.000000</td>\n",
       "      <td>1.000000</td>\n",
       "    </tr>\n",
       "  </tbody>\n",
       "</table>\n",
       "</div>"
      ],
      "text/plain": [
       "       Item_Weight  Item_Visibility     Item_MRP  Outlet_Establishment_Year  \\\n",
       "count  8523.000000      8523.000000  8523.000000                8523.000000   \n",
       "mean     12.857645         0.066132   140.992782                1997.831867   \n",
       "std       4.226124         0.051598    62.275067                   8.371760   \n",
       "min       4.555000         0.000000    31.290000                1985.000000   \n",
       "25%       9.310000         0.026989    93.826500                1987.000000   \n",
       "50%      12.857645         0.053931   143.012800                1999.000000   \n",
       "75%      16.000000         0.094585   185.643700                2004.000000   \n",
       "max      21.350000         0.328391   266.888400                2009.000000   \n",
       "\n",
       "       Item_Outlet_Sales  ItemFatContent_LF  ItemFatContent_reg  \\\n",
       "count        8523.000000        8523.000000         8523.000000   \n",
       "mean         2181.288914           0.647307            0.352693   \n",
       "std          1706.499616           0.477836            0.477836   \n",
       "min            33.290000           0.000000            0.000000   \n",
       "25%           834.247400           0.000000            0.000000   \n",
       "50%          1794.331000           1.000000            0.000000   \n",
       "75%          3101.296400           1.000000            1.000000   \n",
       "max         13086.964800           1.000000            1.000000   \n",
       "\n",
       "       OutletSize_small  OutletSize_medium  OutletSize_high  \\\n",
       "count       8523.000000        8523.000000      8523.000000   \n",
       "mean           0.109351           0.610466         0.280183   \n",
       "std            0.312098           0.487673         0.449115   \n",
       "min            0.000000           0.000000         0.000000   \n",
       "25%            0.000000           0.000000         0.000000   \n",
       "50%            0.000000           1.000000         0.000000   \n",
       "75%            0.000000           1.000000         1.000000   \n",
       "max            1.000000           1.000000         1.000000   \n",
       "\n",
       "       OutletLocationType_Tier1  OutletLocationType_Tier2  \\\n",
       "count               8523.000000               8523.000000   \n",
       "mean                   0.280183                  0.326763   \n",
       "std                    0.449115                  0.469057   \n",
       "min                    0.000000                  0.000000   \n",
       "25%                    0.000000                  0.000000   \n",
       "50%                    0.000000                  0.000000   \n",
       "75%                    1.000000                  1.000000   \n",
       "max                    1.000000                  1.000000   \n",
       "\n",
       "       OutletLocationType_Tier3  OutletType_ST1  OutletType_ST2  \\\n",
       "count               8523.000000     8523.000000     8523.000000   \n",
       "mean                   0.393054        0.127068        0.654347   \n",
       "std                    0.488457        0.333069        0.475609   \n",
       "min                    0.000000        0.000000        0.000000   \n",
       "25%                    0.000000        0.000000        0.000000   \n",
       "50%                    0.000000        0.000000        1.000000   \n",
       "75%                    1.000000        0.000000        1.000000   \n",
       "max                    1.000000        1.000000        1.000000   \n",
       "\n",
       "       OutletType_ST3  OutletType_GS  \n",
       "count     8523.000000    8523.000000  \n",
       "mean         0.108882       0.109703  \n",
       "std          0.311509       0.312538  \n",
       "min          0.000000       0.000000  \n",
       "25%          0.000000       0.000000  \n",
       "50%          0.000000       0.000000  \n",
       "75%          0.000000       0.000000  \n",
       "max          1.000000       1.000000  "
      ]
     },
     "execution_count": 29,
     "metadata": {},
     "output_type": "execute_result"
    }
   ],
   "source": [
    "df_cleanedpart.describe()"
   ]
  },
  {
   "cell_type": "code",
   "execution_count": 30,
   "metadata": {},
   "outputs": [
    {
     "data": {
      "text/plain": [
       "Item_Weight                  float64\n",
       "Item_Visibility              float64\n",
       "Item_MRP                     float64\n",
       "Outlet_Establishment_Year      int64\n",
       "Item_Outlet_Sales            float64\n",
       "ItemFatContent_LF              int64\n",
       "ItemFatContent_reg             int64\n",
       "OutletSize_small               int64\n",
       "OutletSize_medium              int64\n",
       "OutletSize_high                int64\n",
       "OutletLocationType_Tier1       int64\n",
       "OutletLocationType_Tier2       int64\n",
       "OutletLocationType_Tier3       int64\n",
       "OutletType_ST1                 int64\n",
       "OutletType_ST2                 int64\n",
       "OutletType_ST3                 int64\n",
       "OutletType_GS                  int64\n",
       "dtype: object"
      ]
     },
     "execution_count": 30,
     "metadata": {},
     "output_type": "execute_result"
    }
   ],
   "source": [
    "df_cleanedpart.dtypes"
   ]
  },
  {
   "cell_type": "code",
   "execution_count": 32,
   "metadata": {},
   "outputs": [],
   "source": [
    "corr = df_cleanedpart.corr()"
   ]
  },
  {
   "cell_type": "code",
   "execution_count": 37,
   "metadata": {},
   "outputs": [
    {
     "data": {
      "text/plain": [
       "<matplotlib.axes._subplots.AxesSubplot at 0x11de18a7128>"
      ]
     },
     "execution_count": 37,
     "metadata": {},
     "output_type": "execute_result"
    },
    {
     "data": {
      "image/png": "[encoded data removed]",
      "text/plain": [
       "<Figure size 1080x720 with 2 Axes>"
      ]
     },
     "metadata": {
      "needs_background": "light"
     },
     "output_type": "display_data"
    }
   ],
   "source": [
    "plt.figure(figsize = (15,10))\n",
    "sns.heatmap(corr,annot = True)"
   ]
  },
  {
   "cell_type": "code",
   "execution_count": 26,
   "metadata": {},
   "outputs": [],
   "source": [
    "import statsmodels.formula.api as sfa\n",
    "import statsmodels.api as sa\n",
    "import lmdiag"
   ]
  },
  {
   "cell_type": "code",
   "execution_count": 28,
   "metadata": {},
   "outputs": [
    {
     "data": {
      "text/plain": [
       "Index(['Item_Weight', 'Item_Visibility', 'Item_MRP',\n",
       "       'Outlet_Establishment_Year', 'Item_Outlet_Sales', 'ItemFatContent_LF',\n",
       "       'ItemFatContent_reg', 'OutletSize_small', 'OutletSize_medium',\n",
       "       'OutletSize_high', 'OutletLocationType_Tier1',\n",
       "       'OutletLocationType_Tier2', 'OutletLocationType_Tier3',\n",
       "       'OutletType_ST1', 'OutletType_ST2', 'OutletType_ST3', 'OutletType_GS'],\n",
       "      dtype='object')"
      ]
     },
     "execution_count": 28,
     "metadata": {},
     "output_type": "execute_result"
    }
   ],
   "source": [
    "df_cleanedpart.keys()"
   ]
  },
  {
   "cell_type": "code",
   "execution_count": 31,
   "metadata": {},
   "outputs": [],
   "source": [
    "model = sfa.ols(formula= 'Item_Outlet_Sales~Item_Weight+Item_Visibility+Item_MRP+Outlet_Establishment_Year+ItemFatContent_LF+ItemFatContent_reg+OutletSize_small+OutletSize_medium+OutletSize_high+OutletLocationType_Tier1+OutletLocationType_Tier2+OutletLocationType_Tier3+OutletType_ST1+OutletType_ST2+OutletType_ST3+OutletType_GS',\n",
    "   data = df_cleanedpart).fit()"
   ]
  },
  {
   "cell_type": "code",
   "execution_count": 32,
   "metadata": {},
   "outputs": [
    {
     "name": "stdout",
     "output_type": "stream",
     "text": [
      "                            OLS Regression Results                            \n",
      "==============================================================================\n",
      "Dep. Variable:      Item_Outlet_Sales   R-squared:                       0.563\n",
      "Model:                            OLS   Adj. R-squared:                  0.563\n",
      "Method:                 Least Squares   F-statistic:                     914.3\n",
      "Date:                Thu, 26 Dec 2019   Prob (F-statistic):               0.00\n",
      "Time:                        13:17:18   Log-Likelihood:                -71994.\n",
      "No. Observations:                8523   AIC:                         1.440e+05\n",
      "Df Residuals:                    8510   BIC:                         1.441e+05\n",
      "Df Model:                          12                                         \n",
      "Covariance Type:            nonrobust                                         \n",
      "=============================================================================================\n",
      "                                coef    std err          t      P>|t|      [0.025      0.975]\n",
      "---------------------------------------------------------------------------------------------\n",
      "Intercept                 -3.293e+04   8402.497     -3.919      0.000   -4.94e+04   -1.65e+04\n",
      "Item_Weight                  -0.5999      2.895     -0.207      0.836      -6.276       5.076\n",
      "Item_Visibility            -291.4146    247.755     -1.176      0.240    -777.074     194.245\n",
      "Item_MRP                     15.5618      0.196     79.226      0.000      15.177      15.947\n",
      "Outlet_Establishment_Year    40.0235     10.222      3.915      0.000      19.986      60.061\n",
      "ItemFatContent_LF         -1.649e+04   4201.180     -3.925      0.000   -2.47e+04   -8254.803\n",
      "ItemFatContent_reg        -1.644e+04   4201.356     -3.913      0.000   -2.47e+04   -8202.794\n",
      "OutletSize_small          -1.039e+04   2645.862     -3.925      0.000   -1.56e+04   -5199.360\n",
      "OutletSize_medium         -1.131e+04   2884.631     -3.921      0.000    -1.7e+04   -5654.909\n",
      "OutletSize_high           -1.123e+04   2873.091     -3.910      0.000   -1.69e+04   -5601.274\n",
      "OutletLocationType_Tier1  -1.075e+04   2739.698     -3.922      0.000   -1.61e+04   -5375.032\n",
      "OutletLocationType_Tier2  -1.097e+04   2802.534     -3.916      0.000   -1.65e+04   -5481.068\n",
      "OutletLocationType_Tier3  -1.121e+04   2861.078     -3.918      0.000   -1.68e+04   -5599.978\n",
      "OutletType_ST1            -9862.6403   2074.181     -4.755      0.000   -1.39e+04   -5796.742\n",
      "OutletType_ST2            -8408.2868   2201.527     -3.819      0.000   -1.27e+04   -4092.760\n",
      "OutletType_ST3            -8672.7094   2186.858     -3.966      0.000    -1.3e+04   -4385.936\n",
      "OutletType_GS             -5984.9702   1941.591     -3.083      0.002   -9790.960   -2178.980\n",
      "==============================================================================\n",
      "Omnibus:                      960.191   Durbin-Watson:                   2.001\n",
      "Prob(Omnibus):                  0.000   Jarque-Bera (JB):             2290.760\n",
      "Skew:                           0.667   Prob(JB):                         0.00\n",
      "Kurtosis:                       5.162   Cond. No.                     4.67e+19\n",
      "==============================================================================\n",
      "\n",
      "Warnings:\n",
      "[1] Standard Errors assume that the covariance matrix of the errors is correctly specified.\n",
      "[2] The smallest eigenvalue is 1.57e-29. This might indicate that there are\n",
      "strong multicollinearity problems or that the design matrix is singular.\n"
     ]
    }
   ],
   "source": [
    "print(model.summary())"
   ]
  },
  {
   "cell_type": "code",
   "execution_count": 37,
   "metadata": {},
   "outputs": [],
   "source": [
    "model = sfa.ols(formula= 'Item_Outlet_Sales~Item_Visibility+Item_MRP+Outlet_Establishment_Year+ItemFatContent_LF+ItemFatContent_reg+OutletSize_small+OutletSize_medium+OutletSize_high+OutletLocationType_Tier1+OutletLocationType_Tier2+OutletLocationType_Tier3+OutletType_ST1+OutletType_ST2+OutletType_ST3+OutletType_GS',\n",
    "   data = df_cleanedpart).fit()"
   ]
  },
  {
   "cell_type": "code",
   "execution_count": 38,
   "metadata": {},
   "outputs": [
    {
     "name": "stdout",
     "output_type": "stream",
     "text": [
      "                            OLS Regression Results                            \n",
      "==============================================================================\n",
      "Dep. Variable:      Item_Outlet_Sales   R-squared:                       0.563\n",
      "Model:                            OLS   Adj. R-squared:                  0.563\n",
      "Method:                 Least Squares   F-statistic:                     997.5\n",
      "Date:                Thu, 26 Dec 2019   Prob (F-statistic):               0.00\n",
      "Time:                        13:31:06   Log-Likelihood:                -71994.\n",
      "No. Observations:                8523   AIC:                         1.440e+05\n",
      "Df Residuals:                    8511   BIC:                         1.441e+05\n",
      "Df Model:                          11                                         \n",
      "Covariance Type:            nonrobust                                         \n",
      "=============================================================================================\n",
      "                                coef    std err          t      P>|t|      [0.025      0.975]\n",
      "---------------------------------------------------------------------------------------------\n",
      "Intercept                 -3.291e+04   8401.657     -3.917      0.000   -4.94e+04   -1.64e+04\n",
      "Item_Visibility            -290.7895    247.723     -1.174      0.240    -776.386     194.807\n",
      "Item_MRP                     15.5608      0.196     79.250      0.000      15.176      15.946\n",
      "Outlet_Establishment_Year    39.9999     10.221      3.914      0.000      19.965      60.035\n",
      "ItemFatContent_LF         -1.648e+04   4200.763     -3.924      0.000   -2.47e+04   -8247.542\n",
      "ItemFatContent_reg        -1.643e+04   4200.934     -3.911      0.000   -2.47e+04   -8195.432\n",
      "OutletSize_small          -1.038e+04   2645.601     -3.924      0.000   -1.56e+04   -5194.824\n",
      "OutletSize_medium          -1.13e+04   2884.341     -3.919      0.000    -1.7e+04   -5649.846\n",
      "OutletSize_high           -1.123e+04   2872.802     -3.908      0.000   -1.69e+04   -5596.250\n",
      "OutletLocationType_Tier1  -1.074e+04   2739.426     -3.921      0.000   -1.61e+04   -5370.294\n",
      "OutletLocationType_Tier2  -1.097e+04   2802.252     -3.914      0.000   -1.65e+04   -5476.133\n",
      "OutletLocationType_Tier3   -1.12e+04   2860.793     -3.916      0.000   -1.68e+04   -5595.028\n",
      "OutletType_ST1            -9858.6623   2073.975     -4.754      0.000   -1.39e+04   -5793.167\n",
      "OutletType_ST2            -8404.0140   2201.307     -3.818      0.000   -1.27e+04   -4088.919\n",
      "OutletType_ST3            -8668.4220   2186.637     -3.964      0.000    -1.3e+04   -4382.082\n",
      "OutletType_GS             -5981.2400   1941.399     -3.081      0.002   -9786.852   -2175.628\n",
      "==============================================================================\n",
      "Omnibus:                      960.299   Durbin-Watson:                   2.002\n",
      "Prob(Omnibus):                  0.000   Jarque-Bera (JB):             2290.787\n",
      "Skew:                           0.667   Prob(JB):                         0.00\n",
      "Kurtosis:                       5.162   Cond. No.                     4.31e+19\n",
      "==============================================================================\n",
      "\n",
      "Warnings:\n",
      "[1] Standard Errors assume that the covariance matrix of the errors is correctly specified.\n",
      "[2] The smallest eigenvalue is 1.84e-29. This might indicate that there are\n",
      "strong multicollinearity problems or that the design matrix is singular.\n"
     ]
    }
   ],
   "source": [
    "print(model.summary())"
   ]
  },
  {
   "cell_type": "code",
   "execution_count": 39,
   "metadata": {},
   "outputs": [],
   "source": [
    "model = sfa.ols(formula= 'Item_Outlet_Sales~Item_MRP+Outlet_Establishment_Year+ItemFatContent_LF+ItemFatContent_reg+OutletSize_small+OutletSize_medium+OutletSize_high+OutletLocationType_Tier1+OutletLocationType_Tier2+OutletLocationType_Tier3+OutletType_ST1+OutletType_ST2+OutletType_ST3+OutletType_GS',\n",
    "   data = df_cleanedpart).fit()"
   ]
  },
  {
   "cell_type": "code",
   "execution_count": 40,
   "metadata": {},
   "outputs": [
    {
     "name": "stdout",
     "output_type": "stream",
     "text": [
      "                            OLS Regression Results                            \n",
      "==============================================================================\n",
      "Dep. Variable:      Item_Outlet_Sales   R-squared:                       0.563\n",
      "Model:                            OLS   Adj. R-squared:                  0.563\n",
      "Method:                 Least Squares   F-statistic:                     1097.\n",
      "Date:                Thu, 26 Dec 2019   Prob (F-statistic):               0.00\n",
      "Time:                        13:32:23   Log-Likelihood:                -71994.\n",
      "No. Observations:                8523   AIC:                         1.440e+05\n",
      "Df Residuals:                    8512   BIC:                         1.441e+05\n",
      "Df Model:                          10                                         \n",
      "Covariance Type:            nonrobust                                         \n",
      "=============================================================================================\n",
      "                                coef    std err          t      P>|t|      [0.025      0.975]\n",
      "---------------------------------------------------------------------------------------------\n",
      "Intercept                 -3.288e+04   8401.794     -3.913      0.000   -4.93e+04   -1.64e+04\n",
      "Item_MRP                     15.5609      0.196     79.249      0.000      15.176      15.946\n",
      "Outlet_Establishment_Year    39.9476     10.221      3.908      0.000      19.912      59.983\n",
      "ItemFatContent_LF         -1.646e+04   4200.829     -3.919      0.000   -2.47e+04   -8229.747\n",
      "ItemFatContent_reg        -1.641e+04   4201.004     -3.907      0.000   -2.46e+04   -8179.143\n",
      "OutletSize_small          -1.037e+04   2645.648     -3.920      0.000   -1.56e+04   -5185.484\n",
      "OutletSize_medium         -1.129e+04   2884.386     -3.915      0.000   -1.69e+04   -5637.435\n",
      "OutletSize_high           -1.122e+04   2872.847     -3.904      0.000   -1.68e+04   -5583.917\n",
      "OutletLocationType_Tier1  -1.073e+04   2739.473     -3.917      0.000   -1.61e+04   -5359.875\n",
      "OutletLocationType_Tier2  -1.096e+04   2802.300     -3.911      0.000   -1.65e+04   -5465.523\n",
      "OutletLocationType_Tier3  -1.119e+04   2860.835     -3.911      0.000   -1.68e+04   -5581.973\n",
      "OutletType_ST1            -9859.8784   2074.021     -4.754      0.000   -1.39e+04   -5794.294\n",
      "OutletType_ST2            -8390.6670   2201.326     -3.812      0.000   -1.27e+04   -4075.534\n",
      "OutletType_ST3            -8657.2985   2186.665     -3.959      0.000   -1.29e+04   -4370.903\n",
      "OutletType_GS             -5970.6784   1941.421     -3.075      0.002   -9776.334   -2165.022\n",
      "==============================================================================\n",
      "Omnibus:                      962.291   Durbin-Watson:                   2.002\n",
      "Prob(Omnibus):                  0.000   Jarque-Bera (JB):             2300.274\n",
      "Skew:                           0.667   Prob(JB):                         0.00\n",
      "Kurtosis:                       5.167   Cond. No.                     4.14e+19\n",
      "==============================================================================\n",
      "\n",
      "Warnings:\n",
      "[1] Standard Errors assume that the covariance matrix of the errors is correctly specified.\n",
      "[2] The smallest eigenvalue is  2e-29. This might indicate that there are\n",
      "strong multicollinearity problems or that the design matrix is singular.\n"
     ]
    }
   ],
   "source": [
    "print(model.summary())"
   ]
  },
  {
   "cell_type": "markdown",
   "metadata": {},
   "source": [
    "### Observations:\n",
    "\n",
    "- In above OLS Model the significant columns are, which are having the lessthan 0.05."
   ]
  },
  {
   "cell_type": "code",
   "execution_count": 38,
   "metadata": {},
   "outputs": [
    {
     "data": {
      "text/html": [
       "<div>\n",
       "<style scoped>\n",
       "    .dataframe tbody tr th:only-of-type {\n",
       "        vertical-align: middle;\n",
       "    }\n",
       "\n",
       "    .dataframe tbody tr th {\n",
       "        vertical-align: top;\n",
       "    }\n",
       "\n",
       "    .dataframe thead th {\n",
       "        text-align: right;\n",
       "    }\n",
       "</style>\n",
       "<table border=\"1\" class=\"dataframe\">\n",
       "  <thead>\n",
       "    <tr style=\"text-align: right;\">\n",
       "      <th></th>\n",
       "      <th>Item_Weight</th>\n",
       "      <th>Item_Visibility</th>\n",
       "      <th>Item_MRP</th>\n",
       "      <th>Outlet_Establishment_Year</th>\n",
       "      <th>Item_Outlet_Sales</th>\n",
       "      <th>ItemFatContent_LF</th>\n",
       "      <th>ItemFatContent_reg</th>\n",
       "      <th>OutletSize_small</th>\n",
       "      <th>OutletSize_medium</th>\n",
       "      <th>OutletSize_high</th>\n",
       "      <th>OutletLocationType_Tier1</th>\n",
       "      <th>OutletLocationType_Tier2</th>\n",
       "      <th>OutletLocationType_Tier3</th>\n",
       "      <th>OutletType_ST1</th>\n",
       "      <th>OutletType_ST2</th>\n",
       "      <th>OutletType_ST3</th>\n",
       "      <th>OutletType_GS</th>\n",
       "    </tr>\n",
       "  </thead>\n",
       "  <tbody>\n",
       "    <tr>\n",
       "      <th>0</th>\n",
       "      <td>-0.841872</td>\n",
       "      <td>-0.970732</td>\n",
       "      <td>1.747454</td>\n",
       "      <td>0.139541</td>\n",
       "      <td>0.910601</td>\n",
       "      <td>0.738147</td>\n",
       "      <td>-0.738147</td>\n",
       "      <td>-0.350395</td>\n",
       "      <td>0.798807</td>\n",
       "      <td>-0.623893</td>\n",
       "      <td>1.602840</td>\n",
       "      <td>-0.696678</td>\n",
       "      <td>-0.804732</td>\n",
       "      <td>-0.381529</td>\n",
       "      <td>0.726802</td>\n",
       "      <td>-0.349551</td>\n",
       "      <td>-0.351028</td>\n",
       "    </tr>\n",
       "    <tr>\n",
       "      <th>1</th>\n",
       "      <td>-1.641706</td>\n",
       "      <td>-0.908111</td>\n",
       "      <td>-1.489023</td>\n",
       "      <td>1.334103</td>\n",
       "      <td>-1.018440</td>\n",
       "      <td>-1.354743</td>\n",
       "      <td>1.354743</td>\n",
       "      <td>-0.350395</td>\n",
       "      <td>0.798807</td>\n",
       "      <td>-0.623893</td>\n",
       "      <td>-0.623893</td>\n",
       "      <td>-0.696678</td>\n",
       "      <td>1.242650</td>\n",
       "      <td>-0.381529</td>\n",
       "      <td>-1.375891</td>\n",
       "      <td>2.860816</td>\n",
       "      <td>-0.351028</td>\n",
       "    </tr>\n",
       "    <tr>\n",
       "      <th>2</th>\n",
       "      <td>1.098554</td>\n",
       "      <td>-0.956917</td>\n",
       "      <td>0.010040</td>\n",
       "      <td>0.139541</td>\n",
       "      <td>-0.049238</td>\n",
       "      <td>0.738147</td>\n",
       "      <td>-0.738147</td>\n",
       "      <td>-0.350395</td>\n",
       "      <td>0.798807</td>\n",
       "      <td>-0.623893</td>\n",
       "      <td>1.602840</td>\n",
       "      <td>-0.696678</td>\n",
       "      <td>-0.804732</td>\n",
       "      <td>-0.381529</td>\n",
       "      <td>0.726802</td>\n",
       "      <td>-0.349551</td>\n",
       "      <td>-0.351028</td>\n",
       "    </tr>\n",
       "    <tr>\n",
       "      <th>3</th>\n",
       "      <td>1.500838</td>\n",
       "      <td>-1.281758</td>\n",
       "      <td>0.660050</td>\n",
       "      <td>0.020085</td>\n",
       "      <td>-0.849103</td>\n",
       "      <td>-1.354743</td>\n",
       "      <td>1.354743</td>\n",
       "      <td>-0.350395</td>\n",
       "      <td>0.798807</td>\n",
       "      <td>-0.623893</td>\n",
       "      <td>-0.623893</td>\n",
       "      <td>-0.696678</td>\n",
       "      <td>1.242650</td>\n",
       "      <td>2.621031</td>\n",
       "      <td>-1.375891</td>\n",
       "      <td>-0.349551</td>\n",
       "      <td>-0.351028</td>\n",
       "    </tr>\n",
       "    <tr>\n",
       "      <th>4</th>\n",
       "      <td>-0.929428</td>\n",
       "      <td>-1.281758</td>\n",
       "      <td>-1.399220</td>\n",
       "      <td>-1.293934</td>\n",
       "      <td>-0.695373</td>\n",
       "      <td>0.738147</td>\n",
       "      <td>-0.738147</td>\n",
       "      <td>2.853918</td>\n",
       "      <td>-1.251866</td>\n",
       "      <td>-0.623893</td>\n",
       "      <td>-0.623893</td>\n",
       "      <td>-0.696678</td>\n",
       "      <td>1.242650</td>\n",
       "      <td>-0.381529</td>\n",
       "      <td>0.726802</td>\n",
       "      <td>-0.349551</td>\n",
       "      <td>-0.351028</td>\n",
       "    </tr>\n",
       "  </tbody>\n",
       "</table>\n",
       "</div>"
      ],
      "text/plain": [
       "   Item_Weight  Item_Visibility  Item_MRP  Outlet_Establishment_Year  \\\n",
       "0    -0.841872        -0.970732  1.747454                   0.139541   \n",
       "1    -1.641706        -0.908111 -1.489023                   1.334103   \n",
       "2     1.098554        -0.956917  0.010040                   0.139541   \n",
       "3     1.500838        -1.281758  0.660050                   0.020085   \n",
       "4    -0.929428        -1.281758 -1.399220                  -1.293934   \n",
       "\n",
       "   Item_Outlet_Sales  ItemFatContent_LF  ItemFatContent_reg  OutletSize_small  \\\n",
       "0           0.910601           0.738147           -0.738147         -0.350395   \n",
       "1          -1.018440          -1.354743            1.354743         -0.350395   \n",
       "2          -0.049238           0.738147           -0.738147         -0.350395   \n",
       "3          -0.849103          -1.354743            1.354743         -0.350395   \n",
       "4          -0.695373           0.738147           -0.738147          2.853918   \n",
       "\n",
       "   OutletSize_medium  OutletSize_high  OutletLocationType_Tier1  \\\n",
       "0           0.798807        -0.623893                  1.602840   \n",
       "1           0.798807        -0.623893                 -0.623893   \n",
       "2           0.798807        -0.623893                  1.602840   \n",
       "3           0.798807        -0.623893                 -0.623893   \n",
       "4          -1.251866        -0.623893                 -0.623893   \n",
       "\n",
       "   OutletLocationType_Tier2  OutletLocationType_Tier3  OutletType_ST1  \\\n",
       "0                 -0.696678                 -0.804732       -0.381529   \n",
       "1                 -0.696678                  1.242650       -0.381529   \n",
       "2                 -0.696678                 -0.804732       -0.381529   \n",
       "3                 -0.696678                  1.242650        2.621031   \n",
       "4                 -0.696678                  1.242650       -0.381529   \n",
       "\n",
       "   OutletType_ST2  OutletType_ST3  OutletType_GS  \n",
       "0        0.726802       -0.349551      -0.351028  \n",
       "1       -1.375891        2.860816      -0.351028  \n",
       "2        0.726802       -0.349551      -0.351028  \n",
       "3       -1.375891       -0.349551      -0.351028  \n",
       "4        0.726802       -0.349551      -0.351028  "
      ]
     },
     "execution_count": 38,
     "metadata": {},
     "output_type": "execute_result"
    }
   ],
   "source": [
    "from sklearn.preprocessing import StandardScaler\n",
    "sc = StandardScaler()\n",
    "df_sc = pd.DataFrame(sc.fit_transform(df_cleanedpart),columns = df_cleanedpart.columns)\n",
    "df_sc.head()"
   ]
  },
  {
   "cell_type": "code",
   "execution_count": 39,
   "metadata": {},
   "outputs": [],
   "source": [
    "X = df_sc.drop('Item_Outlet_Sales',axis = 1)\n",
    "y = df_sc['Item_Outlet_Sales']"
   ]
  },
  {
   "cell_type": "code",
   "execution_count": 41,
   "metadata": {},
   "outputs": [
    {
     "name": "stdout",
     "output_type": "stream",
     "text": [
      "(6818, 16) (1705, 16) (6818,) (1705,)\n"
     ]
    }
   ],
   "source": [
    "from sklearn.model_selection import train_test_split\n",
    "X_train,X_test,y_train,y_test = train_test_split(X,y,random_state = 40,test_size = 0.2)\n",
    "print(X_train.shape,X_test.shape,y_train.shape,y_test.shape)"
   ]
  },
  {
   "cell_type": "code",
   "execution_count": 52,
   "metadata": {},
   "outputs": [],
   "source": [
    "from sklearn.linear_model import LinearRegression\n",
    "from sklearn.metrics import mean_squared_error\n",
    "lm = LinearRegression().fit(X_train,y_train)\n"
   ]
  },
  {
   "cell_type": "code",
   "execution_count": 53,
   "metadata": {},
   "outputs": [
    {
     "name": "stdout",
     "output_type": "stream",
     "text": [
      "MSE on train: 0.43286677116253125\n",
      "RSquared: 0.5623305289735081\n",
      "MSE on test: 0.4530124362559619\n",
      "RSquared: 0.5651618171447801\n"
     ]
    }
   ],
   "source": [
    "# fit a linear model on train\n",
    "lm = LinearRegression()\n",
    "lm = lm.fit(X_train, y_train)\n",
    "#Predict the model on train\n",
    "pred_train = lm.predict(X_train)\n",
    "print('MSE on train:', mean_squared_error(y_train,pred_train))\n",
    "print('RSquared:',lm.score(X_train, y_train))\n",
    "# predict on test\n",
    "pred_test = lm.predict(X_test)\n",
    "print('MSE on test:', mean_squared_error(y_test,pred_test))\n",
    "print('RSquared:',lm.score(X_test, y_test))"
   ]
  }
 ],
 "metadata": {
  "kernelspec": {
   "display_name": "Python 3",
   "language": "python",
   "name": "python3"
  },
  "language_info": {
   "codemirror_mode": {
    "name": "ipython",
    "version": 3
   },
   "file_extension": ".py",
   "mimetype": "text/x-python",
   "name": "python",
   "nbconvert_exporter": "python",
   "pygments_lexer": "ipython3",
   "version": "3.7.3"
  }
 },
 "nbformat": 4,
 "nbformat_minor": 2
}
